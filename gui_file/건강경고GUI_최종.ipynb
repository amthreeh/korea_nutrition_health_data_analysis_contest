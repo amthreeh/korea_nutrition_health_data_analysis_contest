{
 "cells": [
  {
   "cell_type": "code",
   "execution_count": 2,
   "metadata": {},
   "outputs": [],
   "source": [
    "from Health_Check import Health_Check\n",
    "import numpy as np\n",
    "import pandas as pd\n",
    "import matplotlib.pyplot as plt\n",
    "import seaborn as sns\n",
    "import matplotlib.gridspec as gridspec\n",
    "from matplotlib.figure import Figure\n",
    "import tkinter as tk\n",
    "from pandas import DataFrame\n",
    "import matplotlib.pyplot as plt\n",
    "from matplotlib.backends.backend_tkagg import FigureCanvasTkAgg\n",
    "import tkinter.font as tkFont\n",
    "from tkinter import *"
   ]
  },
  {
   "cell_type": "markdown",
   "metadata": {},
   "source": [
    "# GUI"
   ]
  },
  {
   "cell_type": "code",
   "execution_count": 3,
   "metadata": {},
   "outputs": [],
   "source": [
    "path = \"D:/python/nationalhealth_2010to2021.csv\"\n",
    "path = \"D:/python/nationalhealth_2010to2021.csv\"\n",
    "\n",
    "#path는 경로에맞게설정!"
   ]
  },
  {
   "cell_type": "code",
   "execution_count": 4,
   "metadata": {},
   "outputs": [],
   "source": [
    "def draw_print(compare_region, between_year, sum_disease_input_data_all, sum_disease_input_data_all_ratio, search_region, disease_names):\n",
    "        if  compare_region == None and between_year == None:\n",
    "            print(\"******************\")\n",
    "            result = sum_disease_input_data_all.loc[\"전국\"] - sum_disease_input_data_all.loc[search_region]\n",
    "            result_ratio = (sum_disease_input_data_all_ratio.loc[\"전국\"] - sum_disease_input_data_all_ratio.loc[search_region])\n",
    "            result_ratio = result_ratio*100\n",
    "            \n",
    "            print(\"~~~~~~~~~\")\n",
    "            sort_result_ratio = result_ratio.sort_values(ascending = False)\n",
    "            sort_result_ratio = sort_result_ratio[0:3]\n",
    "            \n",
    "            print(sort_result_ratio.index)\n",
    "            \n",
    "            \n",
    "            text=tk.Text(frame3)\n",
    "            text.delete('1.0', END)\n",
    "            text.insert(INSERT,f\"{search_region}지역의 독거노인은 전국의 독거노인보다\\n\")\n",
    "            for disease in disease_names:\n",
    "                text.insert(INSERT,\"{} 을(를) {}({:.2f}%)만큼 더(덜) 걸렸습니다 \\n\".format(disease, result[disease],result_ratio[disease]))\n",
    "            \n",
    "            text.pack()\n",
    "            \n",
    "            \n",
    "            \n",
    "            text=tk.Text(frame3)\n",
    "            text.insert(INSERT,f\"{search_region}지역의 독거노인은\\n\")\n",
    "            for idx in sort_result_ratio.index:\n",
    "                text.insert(INSERT,f\"{idx} 질병을 특히 주의하세요 !\\n\")\n",
    "            \n",
    "            text.pack()\n",
    "            \n",
    "\n",
    "            \n",
    "            \n",
    "            fig = Figure(figsize=(6, 12), dpi=60)  #그리프 그릴 창 생성\n",
    "            ax = fig.add_subplot(1,1,1)#창에 그래프 하나 추가\n",
    "            ax.bar(np.arange(13)-0.15, sum_disease_input_data_all_ratio.loc[\"전국\"] ,width=0.5)\n",
    "            ax.bar(np.arange(13)+0.15, sum_disease_input_data_all_ratio.loc[search_region], width=0.5)\n",
    "            ax.set_xticks(np.arange(13), disease_names, rotation = 270)\n",
    "            ax.set_yticks(np.arange(0,sum_disease_input_data_all_ratio.loc[\"전국\"].values.max(),0.1), \n",
    "                       [ str(int(x*100))+\"%\" for x in (np.arange(0,sum_disease_input_data_all_ratio.loc[\"전국\"].values.max(),0.1))])\n",
    "            ax.set_title(\"전국과 {}지역의 독거노인 질병 비교\".format(search_region))\n",
    "            ax.legend([\"전국\",\"{}\".format(search_region)])\n",
    "            ax.grid(axis = \"y\")\n",
    "            canvas = FigureCanvasTkAgg(fig, master=frame2)\n",
    "            canvas.get_tk_widget().pack()\n",
    "            canvas.draw()\n",
    "                \n",
    "            \n",
    "def exit_window(): window.destroy()\n",
    "\n",
    "def go():\n",
    "    ohs = Health_Check(path, path)\n",
    "    print(\"!!!!!!!!!!!!!!!!!!!\")\n",
    "    print(entry1.get())\n",
    "    \n",
    "    b = ohs.disease_check(entry1.get())    \n",
    "    draw_print(b[0],b[1],b[2],b[3],b[4],b[5])\n",
    "    \n",
    "    window.after(9000,exit_window)"
   ]
  },
  {
   "cell_type": "code",
   "execution_count": 5,
   "metadata": {},
   "outputs": [
    {
     "name": "stdout",
     "output_type": "stream",
     "text": [
      "x: 853\n",
      "y: 533\n",
      "!!!!!!!!!!!!!!!!!!!\n",
      "서울\n",
      "******************\n",
      "~~~~~~~~~\n",
      "Index(['당뇨병', '빈혈', '골관절염'], dtype='object')\n"
     ]
    }
   ],
   "source": [
    "window = tk.Tk()\n",
    "# window.resizable(False,False)\n",
    "screen_width = window.winfo_screenwidth()\n",
    "screen_height = window.winfo_screenheight()\n",
    "\n",
    "xpos = int(screen_width/2)\n",
    "ypos = int(screen_height)\n",
    "\n",
    "window.geometry(f\"{xpos}x{ypos}\")\n",
    "print(\"x:\", int(screen_width/2))\n",
    "print(\"y:\", int(screen_height/2))\n",
    "window.title('건강판독기')\n",
    "\n",
    "frame1 = tk.Frame(width = xpos, height = ypos/8, relief=\"solid\")\n",
    "frame2 = tk.Frame(width = xpos/2, height=ypos, relief=\"solid\")\n",
    "frame3 = tk.Frame(width = xpos/2, height=ypos, relief=\"solid\")\n",
    "\n",
    "\n",
    "frame1.place(x=0, y=0)\n",
    "frame2.place(x=0, y=ypos/8)\n",
    "frame3.place(x=xpos/2, y=ypos/8)\n",
    "\n",
    "\n",
    "fontStyle = tkFont.Font(family=\"Lucida Grande\", size=11)\n",
    "label1 = Label(frame1,text='오른쪽빈칸에 알고싶은지역을 적고 확인을 누르세요! 확인을누르고 9초뒤에 창이닫힙니다',font =fontStyle).grid(row=1,column=0)\n",
    "\n",
    "entry1 = Entry(frame1,width=20)\n",
    "entry1.grid(row=1,column=8,padx=5,pady=0)\n",
    "\n",
    "\n",
    "btn1 = Button(frame1,text='확인',bg='white',fg='black',width=5,height=1,command=go).grid(row=3,column=0)\n",
    "btn2 = Button(frame1,text='취소',bg='white',fg='black',width=5,height=1,command=exit_window).grid(row=3,column=1)\n",
    "\n",
    "\n",
    "\n",
    "\n",
    "window.mainloop()"
   ]
  }
 ],
 "metadata": {
  "kernelspec": {
   "display_name": "Python 3 (ipykernel)",
   "language": "python",
   "name": "python3"
  },
  "language_info": {
   "codemirror_mode": {
    "name": "ipython",
    "version": 3
   },
   "file_extension": ".py",
   "mimetype": "text/x-python",
   "name": "python",
   "nbconvert_exporter": "python",
   "pygments_lexer": "ipython3",
   "version": "3.9.7"
  },
  "toc": {
   "base_numbering": 1,
   "nav_menu": {},
   "number_sections": true,
   "sideBar": true,
   "skip_h1_title": false,
   "title_cell": "Table of Contents",
   "title_sidebar": "Contents",
   "toc_cell": false,
   "toc_position": {},
   "toc_section_display": true,
   "toc_window_display": false
  },
  "vscode": {
   "interpreter": {
    "hash": "42e27f01b61b9db9b8e37ef119477c1140e145cf056c3c5bd3af721bcc49baa3"
   }
  }
 },
 "nbformat": 4,
 "nbformat_minor": 2
}
